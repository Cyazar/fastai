{
  "nbformat": 4,
  "nbformat_minor": 0,
  "metadata": {
    "colab": {
      "provenance": [],
      "authorship_tag": "ABX9TyP+/Vo1BIDZdBKbe8cjbNJD",
      "include_colab_link": true
    },
    "kernelspec": {
      "name": "python3",
      "display_name": "Python 3"
    },
    "language_info": {
      "name": "python"
    },
    "widgets": {
      "application/vnd.jupyter.widget-state+json": {
        "89bb227c10794185814ac64c1a020853": {
          "model_module": "@jupyter-widgets/controls",
          "model_name": "FileUploadModel",
          "model_module_version": "1.5.0",
          "state": {
            "_counter": 2,
            "_dom_classes": [],
            "_model_module": "@jupyter-widgets/controls",
            "_model_module_version": "1.5.0",
            "_model_name": "FileUploadModel",
            "_view_count": null,
            "_view_module": "@jupyter-widgets/controls",
            "_view_module_version": "1.5.0",
            "_view_name": "FileUploadView",
            "accept": "",
            "button_style": "",
            "data": [
              null
            ],
            "description": "Upload",
            "description_tooltip": null,
            "disabled": false,
            "error": "",
            "icon": "upload",
            "layout": "IPY_MODEL_d24550a2cd3d448d851e3f369863a3f8",
            "metadata": [
              {
                "name": "81b5Wnh3XbL._AC_SL1500_.jpg",
                "type": "image/jpeg",
                "size": 311377,
                "lastModified": 1670935736000
              }
            ],
            "multiple": false,
            "style": "IPY_MODEL_2202a033b62a40bf918279f328c9e5cc"
          }
        },
        "d24550a2cd3d448d851e3f369863a3f8": {
          "model_module": "@jupyter-widgets/base",
          "model_name": "LayoutModel",
          "model_module_version": "1.2.0",
          "state": {
            "_model_module": "@jupyter-widgets/base",
            "_model_module_version": "1.2.0",
            "_model_name": "LayoutModel",
            "_view_count": null,
            "_view_module": "@jupyter-widgets/base",
            "_view_module_version": "1.2.0",
            "_view_name": "LayoutView",
            "align_content": null,
            "align_items": null,
            "align_self": null,
            "border": null,
            "bottom": null,
            "display": null,
            "flex": null,
            "flex_flow": null,
            "grid_area": null,
            "grid_auto_columns": null,
            "grid_auto_flow": null,
            "grid_auto_rows": null,
            "grid_column": null,
            "grid_gap": null,
            "grid_row": null,
            "grid_template_areas": null,
            "grid_template_columns": null,
            "grid_template_rows": null,
            "height": null,
            "justify_content": null,
            "justify_items": null,
            "left": null,
            "margin": null,
            "max_height": null,
            "max_width": null,
            "min_height": null,
            "min_width": null,
            "object_fit": null,
            "object_position": null,
            "order": null,
            "overflow": null,
            "overflow_x": null,
            "overflow_y": null,
            "padding": null,
            "right": null,
            "top": null,
            "visibility": null,
            "width": null
          }
        },
        "2202a033b62a40bf918279f328c9e5cc": {
          "model_module": "@jupyter-widgets/controls",
          "model_name": "ButtonStyleModel",
          "model_module_version": "1.5.0",
          "state": {
            "_model_module": "@jupyter-widgets/controls",
            "_model_module_version": "1.5.0",
            "_model_name": "ButtonStyleModel",
            "_view_count": null,
            "_view_module": "@jupyter-widgets/base",
            "_view_module_version": "1.2.0",
            "_view_name": "StyleView",
            "button_color": null,
            "font_weight": ""
          }
        },
        "3c817365bca848d8a69d5c24fb2ee4b6": {
          "model_module": "@jupyter-widgets/controls",
          "model_name": "ButtonModel",
          "model_module_version": "1.5.0",
          "state": {
            "_dom_classes": [],
            "_model_module": "@jupyter-widgets/controls",
            "_model_module_version": "1.5.0",
            "_model_name": "ButtonModel",
            "_view_count": null,
            "_view_module": "@jupyter-widgets/controls",
            "_view_module_version": "1.5.0",
            "_view_name": "ButtonView",
            "button_style": "",
            "description": "Classify",
            "disabled": false,
            "icon": "",
            "layout": "IPY_MODEL_0139a56e57e94416b7758bb978294734",
            "style": "IPY_MODEL_25f54231e2ec4ac49f85aceea3391b2c",
            "tooltip": ""
          }
        },
        "0139a56e57e94416b7758bb978294734": {
          "model_module": "@jupyter-widgets/base",
          "model_name": "LayoutModel",
          "model_module_version": "1.2.0",
          "state": {
            "_model_module": "@jupyter-widgets/base",
            "_model_module_version": "1.2.0",
            "_model_name": "LayoutModel",
            "_view_count": null,
            "_view_module": "@jupyter-widgets/base",
            "_view_module_version": "1.2.0",
            "_view_name": "LayoutView",
            "align_content": null,
            "align_items": null,
            "align_self": null,
            "border": null,
            "bottom": null,
            "display": null,
            "flex": null,
            "flex_flow": null,
            "grid_area": null,
            "grid_auto_columns": null,
            "grid_auto_flow": null,
            "grid_auto_rows": null,
            "grid_column": null,
            "grid_gap": null,
            "grid_row": null,
            "grid_template_areas": null,
            "grid_template_columns": null,
            "grid_template_rows": null,
            "height": null,
            "justify_content": null,
            "justify_items": null,
            "left": null,
            "margin": null,
            "max_height": null,
            "max_width": null,
            "min_height": null,
            "min_width": null,
            "object_fit": null,
            "object_position": null,
            "order": null,
            "overflow": null,
            "overflow_x": null,
            "overflow_y": null,
            "padding": null,
            "right": null,
            "top": null,
            "visibility": null,
            "width": null
          }
        },
        "25f54231e2ec4ac49f85aceea3391b2c": {
          "model_module": "@jupyter-widgets/controls",
          "model_name": "ButtonStyleModel",
          "model_module_version": "1.5.0",
          "state": {
            "_model_module": "@jupyter-widgets/controls",
            "_model_module_version": "1.5.0",
            "_model_name": "ButtonStyleModel",
            "_view_count": null,
            "_view_module": "@jupyter-widgets/base",
            "_view_module_version": "1.2.0",
            "_view_name": "StyleView",
            "button_color": null,
            "font_weight": ""
          }
        },
        "ecd04b75ef394b0192e51eb7911b1d7a": {
          "model_module": "@jupyter-widgets/output",
          "model_name": "OutputModel",
          "model_module_version": "1.0.0",
          "state": {
            "_dom_classes": [],
            "_model_module": "@jupyter-widgets/output",
            "_model_module_version": "1.0.0",
            "_model_name": "OutputModel",
            "_view_count": null,
            "_view_module": "@jupyter-widgets/output",
            "_view_module_version": "1.0.0",
            "_view_name": "OutputView",
            "layout": "IPY_MODEL_f3461d4f9bad4b4c8e8778d6dbede3c5",
            "msg_id": "",
            "outputs": [
              {
                "output_type": "display_data",
                "data": {
                  "text/plain": "<PIL.Image.Image image mode=RGB size=106x128>",
                  "image/png": "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\n"
                },
                "metadata": {}
              }
            ]
          }
        },
        "f3461d4f9bad4b4c8e8778d6dbede3c5": {
          "model_module": "@jupyter-widgets/base",
          "model_name": "LayoutModel",
          "model_module_version": "1.2.0",
          "state": {
            "_model_module": "@jupyter-widgets/base",
            "_model_module_version": "1.2.0",
            "_model_name": "LayoutModel",
            "_view_count": null,
            "_view_module": "@jupyter-widgets/base",
            "_view_module_version": "1.2.0",
            "_view_name": "LayoutView",
            "align_content": null,
            "align_items": null,
            "align_self": null,
            "border": null,
            "bottom": null,
            "display": null,
            "flex": null,
            "flex_flow": null,
            "grid_area": null,
            "grid_auto_columns": null,
            "grid_auto_flow": null,
            "grid_auto_rows": null,
            "grid_column": null,
            "grid_gap": null,
            "grid_row": null,
            "grid_template_areas": null,
            "grid_template_columns": null,
            "grid_template_rows": null,
            "height": null,
            "justify_content": null,
            "justify_items": null,
            "left": null,
            "margin": null,
            "max_height": null,
            "max_width": null,
            "min_height": null,
            "min_width": null,
            "object_fit": null,
            "object_position": null,
            "order": null,
            "overflow": null,
            "overflow_x": null,
            "overflow_y": null,
            "padding": null,
            "right": null,
            "top": null,
            "visibility": null,
            "width": null
          }
        },
        "0f12ebe21be94fc794dc9828789c2d88": {
          "model_module": "@jupyter-widgets/controls",
          "model_name": "LabelModel",
          "model_module_version": "1.5.0",
          "state": {
            "_dom_classes": [],
            "_model_module": "@jupyter-widgets/controls",
            "_model_module_version": "1.5.0",
            "_model_name": "LabelModel",
            "_view_count": null,
            "_view_module": "@jupyter-widgets/controls",
            "_view_module_version": "1.5.0",
            "_view_name": "LabelView",
            "description": "",
            "description_tooltip": null,
            "layout": "IPY_MODEL_87d7e6041d964649a00212f104dc215c",
            "placeholder": "​",
            "style": "IPY_MODEL_8bbbef3dd9ec4b0b80122c5c2c1b8feb",
            "value": "Prediction: teddy; Probability: 1.0000"
          }
        },
        "87d7e6041d964649a00212f104dc215c": {
          "model_module": "@jupyter-widgets/base",
          "model_name": "LayoutModel",
          "model_module_version": "1.2.0",
          "state": {
            "_model_module": "@jupyter-widgets/base",
            "_model_module_version": "1.2.0",
            "_model_name": "LayoutModel",
            "_view_count": null,
            "_view_module": "@jupyter-widgets/base",
            "_view_module_version": "1.2.0",
            "_view_name": "LayoutView",
            "align_content": null,
            "align_items": null,
            "align_self": null,
            "border": null,
            "bottom": null,
            "display": null,
            "flex": null,
            "flex_flow": null,
            "grid_area": null,
            "grid_auto_columns": null,
            "grid_auto_flow": null,
            "grid_auto_rows": null,
            "grid_column": null,
            "grid_gap": null,
            "grid_row": null,
            "grid_template_areas": null,
            "grid_template_columns": null,
            "grid_template_rows": null,
            "height": null,
            "justify_content": null,
            "justify_items": null,
            "left": null,
            "margin": null,
            "max_height": null,
            "max_width": null,
            "min_height": null,
            "min_width": null,
            "object_fit": null,
            "object_position": null,
            "order": null,
            "overflow": null,
            "overflow_x": null,
            "overflow_y": null,
            "padding": null,
            "right": null,
            "top": null,
            "visibility": null,
            "width": null
          }
        },
        "8bbbef3dd9ec4b0b80122c5c2c1b8feb": {
          "model_module": "@jupyter-widgets/controls",
          "model_name": "DescriptionStyleModel",
          "model_module_version": "1.5.0",
          "state": {
            "_model_module": "@jupyter-widgets/controls",
            "_model_module_version": "1.5.0",
            "_model_name": "DescriptionStyleModel",
            "_view_count": null,
            "_view_module": "@jupyter-widgets/base",
            "_view_module_version": "1.2.0",
            "_view_name": "StyleView",
            "description_width": ""
          }
        },
        "0e8e89ed7e2649eb9271d5238379e008": {
          "model_module": "@jupyter-widgets/controls",
          "model_name": "VBoxModel",
          "model_module_version": "1.5.0",
          "state": {
            "_dom_classes": [],
            "_model_module": "@jupyter-widgets/controls",
            "_model_module_version": "1.5.0",
            "_model_name": "VBoxModel",
            "_view_count": null,
            "_view_module": "@jupyter-widgets/controls",
            "_view_module_version": "1.5.0",
            "_view_name": "VBoxView",
            "box_style": "",
            "children": [
              "IPY_MODEL_6d66ed1ee2ed4f409f4f1e03aca220c4",
              "IPY_MODEL_89bb227c10794185814ac64c1a020853",
              "IPY_MODEL_3c817365bca848d8a69d5c24fb2ee4b6",
              "IPY_MODEL_ecd04b75ef394b0192e51eb7911b1d7a",
              "IPY_MODEL_0f12ebe21be94fc794dc9828789c2d88"
            ],
            "layout": "IPY_MODEL_fe763902390e4fe5b41001157b160aee"
          }
        },
        "6d66ed1ee2ed4f409f4f1e03aca220c4": {
          "model_module": "@jupyter-widgets/controls",
          "model_name": "LabelModel",
          "model_module_version": "1.5.0",
          "state": {
            "_dom_classes": [],
            "_model_module": "@jupyter-widgets/controls",
            "_model_module_version": "1.5.0",
            "_model_name": "LabelModel",
            "_view_count": null,
            "_view_module": "@jupyter-widgets/controls",
            "_view_module_version": "1.5.0",
            "_view_name": "LabelView",
            "description": "",
            "description_tooltip": null,
            "layout": "IPY_MODEL_ef61132fbc384843b97c2d05a18987dc",
            "placeholder": "​",
            "style": "IPY_MODEL_99f377deee0e4994949dc73d4e5049a2",
            "value": "Select your bear!"
          }
        },
        "fe763902390e4fe5b41001157b160aee": {
          "model_module": "@jupyter-widgets/base",
          "model_name": "LayoutModel",
          "model_module_version": "1.2.0",
          "state": {
            "_model_module": "@jupyter-widgets/base",
            "_model_module_version": "1.2.0",
            "_model_name": "LayoutModel",
            "_view_count": null,
            "_view_module": "@jupyter-widgets/base",
            "_view_module_version": "1.2.0",
            "_view_name": "LayoutView",
            "align_content": null,
            "align_items": null,
            "align_self": null,
            "border": null,
            "bottom": null,
            "display": null,
            "flex": null,
            "flex_flow": null,
            "grid_area": null,
            "grid_auto_columns": null,
            "grid_auto_flow": null,
            "grid_auto_rows": null,
            "grid_column": null,
            "grid_gap": null,
            "grid_row": null,
            "grid_template_areas": null,
            "grid_template_columns": null,
            "grid_template_rows": null,
            "height": null,
            "justify_content": null,
            "justify_items": null,
            "left": null,
            "margin": null,
            "max_height": null,
            "max_width": null,
            "min_height": null,
            "min_width": null,
            "object_fit": null,
            "object_position": null,
            "order": null,
            "overflow": null,
            "overflow_x": null,
            "overflow_y": null,
            "padding": null,
            "right": null,
            "top": null,
            "visibility": null,
            "width": null
          }
        },
        "ef61132fbc384843b97c2d05a18987dc": {
          "model_module": "@jupyter-widgets/base",
          "model_name": "LayoutModel",
          "model_module_version": "1.2.0",
          "state": {
            "_model_module": "@jupyter-widgets/base",
            "_model_module_version": "1.2.0",
            "_model_name": "LayoutModel",
            "_view_count": null,
            "_view_module": "@jupyter-widgets/base",
            "_view_module_version": "1.2.0",
            "_view_name": "LayoutView",
            "align_content": null,
            "align_items": null,
            "align_self": null,
            "border": null,
            "bottom": null,
            "display": null,
            "flex": null,
            "flex_flow": null,
            "grid_area": null,
            "grid_auto_columns": null,
            "grid_auto_flow": null,
            "grid_auto_rows": null,
            "grid_column": null,
            "grid_gap": null,
            "grid_row": null,
            "grid_template_areas": null,
            "grid_template_columns": null,
            "grid_template_rows": null,
            "height": null,
            "justify_content": null,
            "justify_items": null,
            "left": null,
            "margin": null,
            "max_height": null,
            "max_width": null,
            "min_height": null,
            "min_width": null,
            "object_fit": null,
            "object_position": null,
            "order": null,
            "overflow": null,
            "overflow_x": null,
            "overflow_y": null,
            "padding": null,
            "right": null,
            "top": null,
            "visibility": null,
            "width": null
          }
        },
        "99f377deee0e4994949dc73d4e5049a2": {
          "model_module": "@jupyter-widgets/controls",
          "model_name": "DescriptionStyleModel",
          "model_module_version": "1.5.0",
          "state": {
            "_model_module": "@jupyter-widgets/controls",
            "_model_module_version": "1.5.0",
            "_model_name": "DescriptionStyleModel",
            "_view_count": null,
            "_view_module": "@jupyter-widgets/base",
            "_view_module_version": "1.2.0",
            "_view_name": "StyleView",
            "description_width": ""
          }
        }
      }
    }
  },
  "cells": [
    {
      "cell_type": "markdown",
      "metadata": {
        "id": "view-in-github",
        "colab_type": "text"
      },
      "source": [
        "<a href=\"https://colab.research.google.com/github/Cyazar/fastai/blob/main/Lesson2.ipynb\" target=\"_parent\"><img src=\"https://colab.research.google.com/assets/colab-badge.svg\" alt=\"Open In Colab\"/></a>"
      ]
    },
    {
      "cell_type": "code",
      "source": [
        "#hide\n",
        "! [ -e /content ] && pip install -Uqq fastbook\n",
        "import fastbook\n",
        "fastbook.setup_book()"
      ],
      "metadata": {
        "colab": {
          "base_uri": "https://localhost:8080/"
        },
        "id": "-JzD_l5peAjh",
        "outputId": "f18bf021-6a6c-449c-f47d-5cf0864c00cd"
      },
      "execution_count": 3,
      "outputs": [
        {
          "output_type": "stream",
          "name": "stdout",
          "text": [
            "\u001b[K     |████████████████████████████████| 719 kB 7.6 MB/s \n",
            "\u001b[K     |████████████████████████████████| 5.8 MB 39.3 MB/s \n",
            "\u001b[K     |████████████████████████████████| 451 kB 43.1 MB/s \n",
            "\u001b[K     |████████████████████████████████| 1.3 MB 51.0 MB/s \n",
            "\u001b[K     |████████████████████████████████| 1.6 MB 47.9 MB/s \n",
            "\u001b[K     |████████████████████████████████| 212 kB 59.5 MB/s \n",
            "\u001b[K     |████████████████████████████████| 182 kB 60.7 MB/s \n",
            "\u001b[K     |████████████████████████████████| 132 kB 66.2 MB/s \n",
            "\u001b[K     |████████████████████████████████| 127 kB 55.5 MB/s \n",
            "\u001b[K     |████████████████████████████████| 7.6 MB 44.4 MB/s \n",
            "\u001b[?25hMounted at /content/gdrive\n"
          ]
        }
      ]
    },
    {
      "cell_type": "code",
      "source": [
        "!pip install voila\n",
        "!jupyter serverextension enable --sys-prefix voila"
      ],
      "metadata": {
        "colab": {
          "base_uri": "https://localhost:8080/"
        },
        "id": "IC0Sbrg4hWcK",
        "outputId": "8b980653-cdcb-45d0-f05a-5a59dae0026a"
      },
      "execution_count": 1,
      "outputs": [
        {
          "output_type": "stream",
          "name": "stdout",
          "text": [
            "Looking in indexes: https://pypi.org/simple, https://us-python.pkg.dev/colab-wheels/public/simple/\n",
            "Requirement already satisfied: voila in /usr/local/lib/python3.8/dist-packages (0.4.0)\n",
            "Requirement already satisfied: jupyterlab-server<3,>=2.3.0 in /usr/local/lib/python3.8/dist-packages (from voila) (2.16.5)\n",
            "Requirement already satisfied: jupyter-core>=4.11.0 in /usr/local/lib/python3.8/dist-packages (from voila) (5.1.0)\n",
            "Requirement already satisfied: jupyter-server<2.0.0,>=1.18 in /usr/local/lib/python3.8/dist-packages (from voila) (1.23.3)\n",
            "Requirement already satisfied: traitlets<6,>=5.0.3 in /usr/local/lib/python3.8/dist-packages (from voila) (5.6.0)\n",
            "Requirement already satisfied: jupyter-client<=7.4.1,>=6.1.3 in /usr/local/lib/python3.8/dist-packages (from voila) (6.1.12)\n",
            "Requirement already satisfied: nbclient<0.8,>=0.4.0 in /usr/local/lib/python3.8/dist-packages (from voila) (0.7.2)\n",
            "Requirement already satisfied: nbconvert<8,>=6.4.5 in /usr/local/lib/python3.8/dist-packages (from voila) (7.2.6)\n",
            "Requirement already satisfied: websockets>=9.0 in /usr/local/lib/python3.8/dist-packages (from voila) (10.4)\n",
            "Requirement already satisfied: tornado>=4.1 in /usr/local/lib/python3.8/dist-packages (from jupyter-client<=7.4.1,>=6.1.3->voila) (6.2)\n",
            "Requirement already satisfied: pyzmq>=13 in /usr/local/lib/python3.8/dist-packages (from jupyter-client<=7.4.1,>=6.1.3->voila) (23.2.1)\n",
            "Requirement already satisfied: python-dateutil>=2.1 in /usr/local/lib/python3.8/dist-packages (from jupyter-client<=7.4.1,>=6.1.3->voila) (2.8.2)\n",
            "Requirement already satisfied: platformdirs>=2.5 in /usr/local/lib/python3.8/dist-packages (from jupyter-core>=4.11.0->voila) (2.5.4)\n",
            "Requirement already satisfied: packaging in /usr/local/lib/python3.8/dist-packages (from jupyter-server<2.0.0,>=1.18->voila) (21.3)\n",
            "Requirement already satisfied: nbformat>=5.2.0 in /usr/local/lib/python3.8/dist-packages (from jupyter-server<2.0.0,>=1.18->voila) (5.7.0)\n",
            "Requirement already satisfied: prometheus-client in /usr/local/lib/python3.8/dist-packages (from jupyter-server<2.0.0,>=1.18->voila) (0.15.0)\n",
            "Requirement already satisfied: terminado>=0.8.3 in /usr/local/lib/python3.8/dist-packages (from jupyter-server<2.0.0,>=1.18->voila) (0.13.3)\n",
            "Requirement already satisfied: websocket-client in /usr/local/lib/python3.8/dist-packages (from jupyter-server<2.0.0,>=1.18->voila) (1.4.2)\n",
            "Requirement already satisfied: anyio<4,>=3.1.0 in /usr/local/lib/python3.8/dist-packages (from jupyter-server<2.0.0,>=1.18->voila) (3.6.2)\n",
            "Requirement already satisfied: argon2-cffi in /usr/local/lib/python3.8/dist-packages (from jupyter-server<2.0.0,>=1.18->voila) (21.3.0)\n",
            "Requirement already satisfied: jinja2 in /usr/local/lib/python3.8/dist-packages (from jupyter-server<2.0.0,>=1.18->voila) (3.1.2)\n",
            "Requirement already satisfied: Send2Trash in /usr/local/lib/python3.8/dist-packages (from jupyter-server<2.0.0,>=1.18->voila) (1.8.0)\n",
            "Requirement already satisfied: idna>=2.8 in /usr/local/lib/python3.8/dist-packages (from anyio<4,>=3.1.0->jupyter-server<2.0.0,>=1.18->voila) (2.10)\n",
            "Requirement already satisfied: sniffio>=1.1 in /usr/local/lib/python3.8/dist-packages (from anyio<4,>=3.1.0->jupyter-server<2.0.0,>=1.18->voila) (1.3.0)\n",
            "Requirement already satisfied: jsonschema>=3.0.1 in /usr/local/lib/python3.8/dist-packages (from jupyterlab-server<3,>=2.3.0->voila) (4.3.3)\n",
            "Requirement already satisfied: babel>=2.10 in /usr/local/lib/python3.8/dist-packages (from jupyterlab-server<3,>=2.3.0->voila) (2.11.0)\n",
            "Requirement already satisfied: json5>=0.9.0 in /usr/local/lib/python3.8/dist-packages (from jupyterlab-server<3,>=2.3.0->voila) (0.9.10)\n",
            "Requirement already satisfied: requests>=2.28 in /usr/local/lib/python3.8/dist-packages (from jupyterlab-server<3,>=2.3.0->voila) (2.28.1)\n",
            "Requirement already satisfied: importlib-metadata>=4.8.3 in /usr/local/lib/python3.8/dist-packages (from jupyterlab-server<3,>=2.3.0->voila) (4.13.0)\n",
            "Requirement already satisfied: pytz>=2015.7 in /usr/local/lib/python3.8/dist-packages (from babel>=2.10->jupyterlab-server<3,>=2.3.0->voila) (2022.6)\n",
            "Requirement already satisfied: zipp>=0.5 in /usr/local/lib/python3.8/dist-packages (from importlib-metadata>=4.8.3->jupyterlab-server<3,>=2.3.0->voila) (3.11.0)\n",
            "Requirement already satisfied: MarkupSafe>=2.0 in /usr/local/lib/python3.8/dist-packages (from jinja2->jupyter-server<2.0.0,>=1.18->voila) (2.0.1)\n",
            "Requirement already satisfied: pyrsistent!=0.17.0,!=0.17.1,!=0.17.2,>=0.14.0 in /usr/local/lib/python3.8/dist-packages (from jsonschema>=3.0.1->jupyterlab-server<3,>=2.3.0->voila) (0.19.2)\n",
            "Requirement already satisfied: attrs>=17.4.0 in /usr/local/lib/python3.8/dist-packages (from jsonschema>=3.0.1->jupyterlab-server<3,>=2.3.0->voila) (22.1.0)\n",
            "Requirement already satisfied: importlib-resources>=1.4.0 in /usr/local/lib/python3.8/dist-packages (from jsonschema>=3.0.1->jupyterlab-server<3,>=2.3.0->voila) (5.10.0)\n",
            "Requirement already satisfied: pandocfilters>=1.4.1 in /usr/local/lib/python3.8/dist-packages (from nbconvert<8,>=6.4.5->voila) (1.5.0)\n",
            "Requirement already satisfied: jupyterlab-pygments in /usr/local/lib/python3.8/dist-packages (from nbconvert<8,>=6.4.5->voila) (0.2.2)\n",
            "Requirement already satisfied: tinycss2 in /usr/local/lib/python3.8/dist-packages (from nbconvert<8,>=6.4.5->voila) (1.2.1)\n",
            "Requirement already satisfied: mistune<3,>=2.0.3 in /usr/local/lib/python3.8/dist-packages (from nbconvert<8,>=6.4.5->voila) (2.0.4)\n",
            "Requirement already satisfied: pygments>=2.4.1 in /usr/local/lib/python3.8/dist-packages (from nbconvert<8,>=6.4.5->voila) (2.6.1)\n",
            "Requirement already satisfied: defusedxml in /usr/local/lib/python3.8/dist-packages (from nbconvert<8,>=6.4.5->voila) (0.7.1)\n",
            "Requirement already satisfied: beautifulsoup4 in /usr/local/lib/python3.8/dist-packages (from nbconvert<8,>=6.4.5->voila) (4.6.3)\n",
            "Requirement already satisfied: bleach in /usr/local/lib/python3.8/dist-packages (from nbconvert<8,>=6.4.5->voila) (5.0.1)\n",
            "Requirement already satisfied: fastjsonschema in /usr/local/lib/python3.8/dist-packages (from nbformat>=5.2.0->jupyter-server<2.0.0,>=1.18->voila) (2.16.2)\n",
            "Requirement already satisfied: pyparsing!=3.0.5,>=2.0.2 in /usr/local/lib/python3.8/dist-packages (from packaging->jupyter-server<2.0.0,>=1.18->voila) (3.0.9)\n",
            "Requirement already satisfied: six>=1.5 in /usr/local/lib/python3.8/dist-packages (from python-dateutil>=2.1->jupyter-client<=7.4.1,>=6.1.3->voila) (1.15.0)\n",
            "Requirement already satisfied: urllib3<1.27,>=1.21.1 in /usr/local/lib/python3.8/dist-packages (from requests>=2.28->jupyterlab-server<3,>=2.3.0->voila) (1.25.11)\n",
            "Requirement already satisfied: certifi>=2017.4.17 in /usr/local/lib/python3.8/dist-packages (from requests>=2.28->jupyterlab-server<3,>=2.3.0->voila) (2022.9.24)\n",
            "Requirement already satisfied: charset-normalizer<3,>=2 in /usr/local/lib/python3.8/dist-packages (from requests>=2.28->jupyterlab-server<3,>=2.3.0->voila) (2.1.1)\n",
            "Requirement already satisfied: ptyprocess in /usr/local/lib/python3.8/dist-packages (from terminado>=0.8.3->jupyter-server<2.0.0,>=1.18->voila) (0.7.0)\n",
            "Requirement already satisfied: argon2-cffi-bindings in /usr/local/lib/python3.8/dist-packages (from argon2-cffi->jupyter-server<2.0.0,>=1.18->voila) (21.2.0)\n",
            "Requirement already satisfied: cffi>=1.0.1 in /usr/local/lib/python3.8/dist-packages (from argon2-cffi-bindings->argon2-cffi->jupyter-server<2.0.0,>=1.18->voila) (1.15.1)\n",
            "Requirement already satisfied: pycparser in /usr/local/lib/python3.8/dist-packages (from cffi>=1.0.1->argon2-cffi-bindings->argon2-cffi->jupyter-server<2.0.0,>=1.18->voila) (2.21)\n",
            "Requirement already satisfied: webencodings in /usr/local/lib/python3.8/dist-packages (from bleach->nbconvert<8,>=6.4.5->voila) (0.5.1)\n",
            "Enabling: voila\n",
            "- Writing config: /usr/etc/jupyter\n",
            "    - Validating...\n",
            "      voila 0.4.0 \u001b[32mOK\u001b[0m\n"
          ]
        }
      ]
    },
    {
      "cell_type": "code",
      "execution_count": 4,
      "metadata": {
        "id": "jwTvwodMdVJr"
      },
      "outputs": [],
      "source": [
        "from fastbook import *\n",
        "from fastai.vision.widgets import *"
      ]
    },
    {
      "cell_type": "markdown",
      "source": [
        "Fastai deployment"
      ],
      "metadata": {
        "id": "6KJlNI2CdZOx"
      }
    },
    {
      "cell_type": "code",
      "source": [
        "path = Path()\n",
        "path.ls(file_exts='.pkl')\n",
        "!pwd"
      ],
      "metadata": {
        "colab": {
          "base_uri": "https://localhost:8080/"
        },
        "id": "UC4-mxtudcg7",
        "outputId": "dd03f72e-cbcd-431d-df11-3b1f8849f1c2"
      },
      "execution_count": 9,
      "outputs": [
        {
          "output_type": "stream",
          "name": "stdout",
          "text": [
            "/content\n"
          ]
        }
      ]
    },
    {
      "cell_type": "code",
      "source": [
        "learn_inf = load_learner(path/'export.pkl')"
      ],
      "metadata": {
        "id": "xsX0rBNffAHu"
      },
      "execution_count": 10,
      "outputs": []
    },
    {
      "cell_type": "code",
      "source": [
        "learn_inf.dls.vocab"
      ],
      "metadata": {
        "colab": {
          "base_uri": "https://localhost:8080/"
        },
        "id": "AFbTmXeWedpP",
        "outputId": "38d353a4-48c0-42d2-907f-5d9c3bd95e00"
      },
      "execution_count": 11,
      "outputs": [
        {
          "output_type": "execute_result",
          "data": {
            "text/plain": [
              "['black', 'grizzly', 'teddy']"
            ]
          },
          "metadata": {},
          "execution_count": 11
        }
      ]
    },
    {
      "cell_type": "code",
      "source": [
        "btn_upload = widgets.FileUpload()\n",
        "btn_upload\n"
      ],
      "metadata": {
        "colab": {
          "base_uri": "https://localhost:8080/",
          "height": 49,
          "referenced_widgets": [
            "89bb227c10794185814ac64c1a020853",
            "d24550a2cd3d448d851e3f369863a3f8",
            "2202a033b62a40bf918279f328c9e5cc"
          ]
        },
        "id": "_FBh5pk9g9hz",
        "outputId": "d97d7630-ccd4-40d1-91c2-5508c21848ce"
      },
      "execution_count": 13,
      "outputs": [
        {
          "output_type": "display_data",
          "data": {
            "text/plain": [
              "FileUpload(value={}, description='Upload')"
            ],
            "application/vnd.jupyter.widget-view+json": {
              "version_major": 2,
              "version_minor": 0,
              "model_id": "89bb227c10794185814ac64c1a020853"
            }
          },
          "metadata": {}
        }
      ]
    },
    {
      "cell_type": "code",
      "source": [
        "btn_run = widgets.Button(description='Classify')\n",
        "btn_run"
      ],
      "metadata": {
        "colab": {
          "base_uri": "https://localhost:8080/",
          "height": 49,
          "referenced_widgets": [
            "3c817365bca848d8a69d5c24fb2ee4b6",
            "0139a56e57e94416b7758bb978294734",
            "25f54231e2ec4ac49f85aceea3391b2c"
          ]
        },
        "id": "OJTy04JRhMne",
        "outputId": "469cee97-6ca5-4c97-8f5a-24e578f5639e"
      },
      "execution_count": 14,
      "outputs": [
        {
          "output_type": "display_data",
          "data": {
            "text/plain": [
              "Button(description='Classify', style=ButtonStyle())"
            ],
            "application/vnd.jupyter.widget-view+json": {
              "version_major": 2,
              "version_minor": 0,
              "model_id": "3c817365bca848d8a69d5c24fb2ee4b6"
            }
          },
          "metadata": {}
        }
      ]
    },
    {
      "cell_type": "code",
      "source": [
        "img = PILImage.create(btn_upload.data[-1])"
      ],
      "metadata": {
        "id": "dAEu-lKXhirF"
      },
      "execution_count": 19,
      "outputs": []
    },
    {
      "cell_type": "code",
      "source": [
        "out_pl = widgets.Output()\n",
        "out_pl.clear_output()\n",
        "with out_pl: display(img.to_thumb(128,128))\n",
        "out_pl"
      ],
      "metadata": {
        "colab": {
          "base_uri": "https://localhost:8080/",
          "height": 145,
          "referenced_widgets": [
            "ecd04b75ef394b0192e51eb7911b1d7a",
            "f3461d4f9bad4b4c8e8778d6dbede3c5"
          ]
        },
        "id": "_SyCrMGdhaPx",
        "outputId": "d798cc16-754e-413c-a051-b01911677c7e"
      },
      "execution_count": 20,
      "outputs": [
        {
          "output_type": "display_data",
          "data": {
            "text/plain": [
              "Output()"
            ],
            "application/vnd.jupyter.widget-view+json": {
              "version_major": 2,
              "version_minor": 0,
              "model_id": "ecd04b75ef394b0192e51eb7911b1d7a"
            }
          },
          "metadata": {}
        }
      ]
    },
    {
      "cell_type": "code",
      "source": [
        "pred,pred_idx,probs = learn_inf.predict(img)"
      ],
      "metadata": {
        "colab": {
          "base_uri": "https://localhost:8080/",
          "height": 17
        },
        "id": "h60oXGYvh1m0",
        "outputId": "a1555277-3966-4472-e9e5-922b89230022"
      },
      "execution_count": 22,
      "outputs": [
        {
          "output_type": "display_data",
          "data": {
            "text/plain": [
              "<IPython.core.display.HTML object>"
            ],
            "text/html": [
              "\n",
              "<style>\n",
              "    /* Turns off some styling */\n",
              "    progress {\n",
              "        /* gets rid of default border in Firefox and Opera. */\n",
              "        border: none;\n",
              "        /* Needs to be in here for Safari polyfill so background images work as expected. */\n",
              "        background-size: auto;\n",
              "    }\n",
              "    progress:not([value]), progress:not([value])::-webkit-progress-bar {\n",
              "        background: repeating-linear-gradient(45deg, #7e7e7e, #7e7e7e 10px, #5c5c5c 10px, #5c5c5c 20px);\n",
              "    }\n",
              "    .progress-bar-interrupted, .progress-bar-interrupted::-webkit-progress-bar {\n",
              "        background: #F44336;\n",
              "    }\n",
              "</style>\n"
            ]
          },
          "metadata": {}
        },
        {
          "output_type": "display_data",
          "data": {
            "text/plain": [
              "<IPython.core.display.HTML object>"
            ],
            "text/html": []
          },
          "metadata": {}
        }
      ]
    },
    {
      "cell_type": "code",
      "source": [
        "lbl_pred = widgets.Label()\n",
        "lbl_pred.value = f'Prediction: {pred}; Probability: {probs[pred_idx]:.04f}'\n",
        "lbl_pred"
      ],
      "metadata": {
        "colab": {
          "base_uri": "https://localhost:8080/",
          "height": 49,
          "referenced_widgets": [
            "0f12ebe21be94fc794dc9828789c2d88",
            "87d7e6041d964649a00212f104dc215c",
            "8bbbef3dd9ec4b0b80122c5c2c1b8feb"
          ]
        },
        "id": "SuyZvTSOhxgR",
        "outputId": "503565ff-0482-4794-c25d-ee3a0ec8658e"
      },
      "execution_count": 23,
      "outputs": [
        {
          "output_type": "display_data",
          "data": {
            "text/plain": [
              "Label(value='Prediction: grizzly; Probability: 1.0000')"
            ],
            "application/vnd.jupyter.widget-view+json": {
              "version_major": 2,
              "version_minor": 0,
              "model_id": "0f12ebe21be94fc794dc9828789c2d88"
            }
          },
          "metadata": {}
        }
      ]
    },
    {
      "cell_type": "code",
      "source": [
        "def on_click_classify(change):\n",
        "    img = PILImage.create(btn_upload.data[-1])\n",
        "    out_pl.clear_output()\n",
        "    with out_pl: display(img.to_thumb(128,128))\n",
        "    pred,pred_idx,probs = learn_inf.predict(img)\n",
        "    lbl_pred.value = f'Prediction: {pred}; Probability: {probs[pred_idx]:.04f}'\n",
        "\n",
        "btn_run.on_click(on_click_classify)"
      ],
      "metadata": {
        "id": "x1RbULC6hGZe"
      },
      "execution_count": 15,
      "outputs": []
    },
    {
      "cell_type": "code",
      "source": [
        "VBox([widgets.Label('Select your bear!'), \n",
        "      btn_upload, btn_run, out_pl, lbl_pred])"
      ],
      "metadata": {
        "colab": {
          "base_uri": "https://localhost:8080/",
          "height": 273,
          "referenced_widgets": [
            "0e8e89ed7e2649eb9271d5238379e008",
            "6d66ed1ee2ed4f409f4f1e03aca220c4",
            "89bb227c10794185814ac64c1a020853",
            "3c817365bca848d8a69d5c24fb2ee4b6",
            "ecd04b75ef394b0192e51eb7911b1d7a",
            "0f12ebe21be94fc794dc9828789c2d88",
            "fe763902390e4fe5b41001157b160aee",
            "ef61132fbc384843b97c2d05a18987dc",
            "99f377deee0e4994949dc73d4e5049a2",
            "d24550a2cd3d448d851e3f369863a3f8",
            "2202a033b62a40bf918279f328c9e5cc",
            "0139a56e57e94416b7758bb978294734",
            "25f54231e2ec4ac49f85aceea3391b2c",
            "87d7e6041d964649a00212f104dc215c",
            "8bbbef3dd9ec4b0b80122c5c2c1b8feb",
            "f3461d4f9bad4b4c8e8778d6dbede3c5"
          ]
        },
        "id": "tXge1ng1hHjf",
        "outputId": "75a8f1e7-0d01-4714-f324-a4363de42e12"
      },
      "execution_count": 24,
      "outputs": [
        {
          "output_type": "display_data",
          "data": {
            "text/plain": [
              "VBox(children=(Label(value='Select your bear!'), FileUpload(value={'https---cdn.cnn.com-cnnnext-dam-assets-211…"
            ],
            "application/vnd.jupyter.widget-view+json": {
              "version_major": 2,
              "version_minor": 0,
              "model_id": "0e8e89ed7e2649eb9271d5238379e008"
            }
          },
          "metadata": {}
        },
        {
          "output_type": "display_data",
          "data": {
            "text/plain": [
              "<IPython.core.display.HTML object>"
            ],
            "text/html": [
              "\n",
              "<style>\n",
              "    /* Turns off some styling */\n",
              "    progress {\n",
              "        /* gets rid of default border in Firefox and Opera. */\n",
              "        border: none;\n",
              "        /* Needs to be in here for Safari polyfill so background images work as expected. */\n",
              "        background-size: auto;\n",
              "    }\n",
              "    progress:not([value]), progress:not([value])::-webkit-progress-bar {\n",
              "        background: repeating-linear-gradient(45deg, #7e7e7e, #7e7e7e 10px, #5c5c5c 10px, #5c5c5c 20px);\n",
              "    }\n",
              "    .progress-bar-interrupted, .progress-bar-interrupted::-webkit-progress-bar {\n",
              "        background: #F44336;\n",
              "    }\n",
              "</style>\n"
            ]
          },
          "metadata": {}
        },
        {
          "output_type": "display_data",
          "data": {
            "text/plain": [
              "<IPython.core.display.HTML object>"
            ],
            "text/html": []
          },
          "metadata": {}
        },
        {
          "output_type": "display_data",
          "data": {
            "text/plain": [
              "<IPython.core.display.HTML object>"
            ],
            "text/html": [
              "\n",
              "<style>\n",
              "    /* Turns off some styling */\n",
              "    progress {\n",
              "        /* gets rid of default border in Firefox and Opera. */\n",
              "        border: none;\n",
              "        /* Needs to be in here for Safari polyfill so background images work as expected. */\n",
              "        background-size: auto;\n",
              "    }\n",
              "    progress:not([value]), progress:not([value])::-webkit-progress-bar {\n",
              "        background: repeating-linear-gradient(45deg, #7e7e7e, #7e7e7e 10px, #5c5c5c 10px, #5c5c5c 20px);\n",
              "    }\n",
              "    .progress-bar-interrupted, .progress-bar-interrupted::-webkit-progress-bar {\n",
              "        background: #F44336;\n",
              "    }\n",
              "</style>\n"
            ]
          },
          "metadata": {}
        },
        {
          "output_type": "display_data",
          "data": {
            "text/plain": [
              "<IPython.core.display.HTML object>"
            ],
            "text/html": []
          },
          "metadata": {}
        }
      ]
    }
  ]
}